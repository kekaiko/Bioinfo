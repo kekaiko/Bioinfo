{
 "cells": [
  {
   "attachments": {},
   "cell_type": "markdown",
   "metadata": {},
   "source": [
    "Computing GC Content solved\n"
   ]
  },
  {
   "attachments": {},
   "cell_type": "markdown",
   "metadata": {},
   "source": [
    "#Problem\n",
    "The GC-content of a DNA string is given by the percentage of symbols in the string that are 'C' or 'G'. For example, the GC-content of \"AGCTATAG\" is 37.5%. Note that the reverse complement of any DNA string has the same GC-content.\n",
    "\n",
    "DNA strings must be labeled when they are consolidated into a database. A commonly used method of string labeling is called FASTA format. In this format, the string is introduced by a line that begins with '>', followed by some labeling information. Subsequent lines contain the string itself; the first line to begin with '>' indicates the label of the next string.\n",
    "\n",
    "In Rosalind's implementation, a string in FASTA format will be labeled by the ID \"Rosalind_xxxx\", where \"xxxx\" denotes a four-digit code between 0000 and 9999.\n",
    "\n",
    "Given: At most 10 DNA strings in FASTA format (of length at most 1 kbp each).\n",
    "\n",
    "Return: The ID of the string having the highest GC-content, followed by the GC-content of that string. Rosalind allows for a default error of 0.001 in all decimal answers unless otherwise stated; please see the note on absolute error below."
   ]
  },
  {
   "cell_type": "code",
   "execution_count": 29,
   "metadata": {},
   "outputs": [],
   "source": [
    "#读入输入文件 fasta文件\n",
    "def parse_fasta(fasta_file):\n",
    "    strings = []\n",
    "    current_label = ''\n",
    "    current_string = ''\n",
    "    with open(fasta_file, 'r') as f:\n",
    "        for line in f:\n",
    "            if line.startswith('>'):\n",
    "                if  current_label and current_string:\n",
    "                    strings.append((current_label, current_string))\n",
    "                current_label = line[1:].rstrip()\n",
    "                current_string = ''\n",
    "            else:\n",
    "                current_string += line.rstrip()\n",
    "        if current_label and current_string: #处理最后一个序列\n",
    "            strings.append((current_label, current_string))\n",
    "    return strings\n",
    "\n"
   ]
  },
  {
   "cell_type": "code",
   "execution_count": 30,
   "metadata": {},
   "outputs": [],
   "source": [
    "#计算输入序列的GC含量，返回GC含量百分比\n",
    "def gc_content(string):\n",
    "    gc_counts=string.count('G')+string.count('C')\n",
    "    gc_content=gc_counts/len(string)*100\n",
    "\n",
    "    return gc_content"
   ]
  },
  {
   "cell_type": "code",
   "execution_count": 31,
   "metadata": {},
   "outputs": [],
   "source": [
    "#输出GC含量最高的序列，名称和对应的序列\n",
    "def max_gc_content(strings):\n",
    "    max_gc=0\n",
    "    max_gc_label=''\n",
    "    max_gc_string=''\n",
    "    max_gc_content=0\n",
    "    for label, string in strings:\n",
    "        gc=gc_content(string)\n",
    "        if gc>max_gc:\n",
    "            max_gc=gc\n",
    "            max_gc_label=label\n",
    "            max_gc_string=string\n",
    "            max_gc_data=gc\n",
    "            \n",
    "    return max_gc_label,max_gc_string,max_gc_data\n",
    "    \n"
   ]
  },
  {
   "cell_type": "code",
   "execution_count": null,
   "metadata": {},
   "outputs": [],
   "source": []
  },
  {
   "cell_type": "code",
   "execution_count": 32,
   "metadata": {},
   "outputs": [
    {
     "name": "stdout",
     "output_type": "stream",
     "text": [
      "[('Rosalind_6404', 'CCTGCGGAAGATCGGCACTAGAATAGCCAGAACCGTTTCTCTGAGGCTTCCGGCCTTCCCTCCCACTAATAATTCTGAGG'), ('Rosalind_5959', 'CCATCGGTAGCGCATCCTTAGTCCAATTAAGTCCCTATCCAGGCGCTCCGCCGAAGGTCTATATCCATTTGTCAGCAGACACGC'), ('Rosalind_0808', 'CCACCCTCGTGGTATGGCTAGGCATTCAGGAACCGGAGAACGCTTCAGACCAGCCCGGACTGGGAACCTGCGGGCAGTAGGTGGAAT'), ('Rosalind_1234', 'CCACCCTCGTGGTATGGCTAGGCATTCAGGAACCGGAGAACGCTTCAGACCAGCCCGGACTGGGAACCTGCGATATCCATTTGTCAGCAGACACGC')]\n",
      "4\n",
      "CCTGCGGAAGATCGGCACTAGAATAGCCAGAACCGTTTCTCTGAGGCTTCCGGCCTTCCCTCCCACTAATAATTCTGAGG\n"
     ]
    }
   ],
   "source": [
    "# Read input file\n",
    "input_file = r'D:\\Study\\Shanghaitech1\\Rotation4\\Bioinfo\\Bioinfo\\python\\Python_Rookie_exercises\\input_test4_202306120.txt'\n",
    "strings = parse_fasta(input_file)\n",
    "print(strings)\n",
    "print(len(strings))\n",
    "print(strings[0][1])"
   ]
  },
  {
   "cell_type": "code",
   "execution_count": 33,
   "metadata": {},
   "outputs": [
    {
     "name": "stdout",
     "output_type": "stream",
     "text": [
      "Rosalind_0808 CCACCCTCGTGGTATGGCTAGGCATTCAGGAACCGGAGAACGCTTCAGACCAGCCCGGACTGGGAACCTGCGGGCAGTAGGTGGAAT\n",
      "Rosalind_0808:CCACCCTCGTGGTATGGCTAGGCATTCAGGAACCGGAGAACGCTTCAGACCAGCCCGGACTGGGAACCTGCGGGCAGTAGGTGGAAT\n",
      "GC含量最高的序列的名字: Rosalind_0808, GC含量最高的序列的序列: CCACCCTCGTGGTATGGCTAGGCATTCAGGAACCGGAGAACGCTTCAGACCAGCCCGGACTGGGAACCTGCGGGCAGTAGGTGGAAT, 它的GC含量为: <function max_gc_content at 0x000001D2A80CA170>\n"
     ]
    }
   ],
   "source": [
    "\n",
    "# Find string with the highest GC-content\n",
    "max_gc_label, max_gc_string,max_gc_data = max_gc_content(strings)\n",
    "max_gc_data=str(max_gc_data)+'%'\n",
    "print(max_gc_label, max_gc_string) #用:拼接\n",
    "print(max_gc_label+':'+max_gc_string) #用+拼接\n",
    "#打印  GC含量最高的序列 名字，序列，GC含量\n",
    "print(\"GC含量最高的序列的名字: {}, GC含量最高的序列的序列: {}, 它的GC含量为: {}\".format(max_gc_label, max_gc_string, max_gc_content))\n"
   ]
  },
  {
   "cell_type": "code",
   "execution_count": null,
   "metadata": {},
   "outputs": [],
   "source": []
  }
 ],
 "metadata": {
  "kernelspec": {
   "display_name": "Python_Rookie_exercise",
   "language": "python",
   "name": "python3"
  },
  "language_info": {
   "codemirror_mode": {
    "name": "ipython",
    "version": 3
   },
   "file_extension": ".py",
   "mimetype": "text/x-python",
   "name": "python",
   "nbconvert_exporter": "python",
   "pygments_lexer": "ipython3",
   "version": "3.10.11"
  },
  "orig_nbformat": 4
 },
 "nbformat": 4,
 "nbformat_minor": 2
}
