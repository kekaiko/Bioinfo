{
 "cells": [
  {
   "attachments": {},
   "cell_type": "markdown",
   "metadata": {},
   "source": [
    "Problem\n",
    "A string is simply an ordered collection of symbols selected from some alphabet and formed into a word; the length of a string is the number of symbols that it contains.\n",
    "\n",
    "An example of a length 21 DNA string (whose alphabet contains the symbols 'A', 'C', 'G', and 'T') is \"ATGCTTCAGAAAGGTCTTACG.\"\n",
    "\n",
    "Given: A DNA string \n",
    " of length at most 1000 nt.\n",
    "\n",
    "Return: Four integers (separated by spaces) counting the respective number of times that the symbols 'A', 'C', 'G', and 'T' occur in \n",
    ".\n",
    "\n",
    "# https://rosalind.info/problems/dna/"
   ]
  },
  {
   "cell_type": "code",
   "execution_count": 9,
   "metadata": {},
   "outputs": [
    {
     "name": "stdout",
     "output_type": "stream",
     "text": [
      "AGATGAATGGACCGGCCATATAAGTAAACCAGTTGTAGGTCGATTTTGACATGCGGTATTGACAGAGCTAGTCTCCTTTAACTCAGGGTTAAAGAATATATAGGTAGTGACTACGCAATGCGTGCGACTTACTAGTTGTACGCGAGCGAGCCGGTAACCACGCAGAGCCTTTAGTGTCCATGAAGTGTGGCTGCCTATTGCTGAGAGGATATGATGCTGTGCTGGACAATTCTATCGGCATGAGTCAGGCTGTAATCCAGCCGTTCGAATGCATTTAATTGCTCCCCACCATAATGAACTGCGAGGCAGCTCTCTTCTATAGCTACATGATGGGCTAAAGACTCTCTCACAGAACCTTCTAACATACAGTCCCTGCAAGGTGCAAAACGCCAGTGGCTAGGGAGAGATCGTACTACCGTTGCTAGACCGCACAGAAGAGGCGTAGAAGGGTCAA\n"
     ]
    }
   ],
   "source": [
    "import random\n",
    "\n",
    "def generate_random_dna_sequence(length, seed):\n",
    "    bases = ['A', 'C', 'G', 'T']\n",
    "    random.seed(seed)  # 设置随机数种子\n",
    "    sequence = ''.join(random.choice(bases) for _ in range(length))\n",
    "    return sequence\n",
    "\n",
    "length = random.randint(1, 1000)  # 随机生成序列长度\n",
    "seed = 123  # 设置随机数种子\n",
    "random_dna_sequence = generate_random_dna_sequence(length, seed)\n",
    "print(random_dna_sequence)\n"
   ]
  },
  {
   "cell_type": "code",
   "execution_count": 18,
   "metadata": {},
   "outputs": [
    {
     "name": "stdout",
     "output_type": "stream",
     "text": [
      "A:125 T:111 C:101 G:117\n"
     ]
    }
   ],
   "source": [
    "# 计算每个碱基的出现次数并打印\n",
    "bases = ['A', 'T', 'C', 'G']\n",
    "counts_str = ' '.join(f'{base}:{random_dna_sequence.count(base)}' for base in bases)\n",
    "print(counts_str)"
   ]
  },
  {
   "cell_type": "code",
   "execution_count": 11,
   "metadata": {},
   "outputs": [
    {
     "name": "stdout",
     "output_type": "stream",
     "text": [
      "A 125\n",
      "C 101\n",
      "G 117\n",
      "T 111\n"
     ]
    }
   ],
   "source": []
  },
  {
   "attachments": {},
   "cell_type": "markdown",
   "metadata": {},
   "source": []
  }
 ],
 "metadata": {
  "kernelspec": {
   "display_name": "Python_Rookie_exercise",
   "language": "python",
   "name": "python3"
  },
  "language_info": {
   "codemirror_mode": {
    "name": "ipython",
    "version": 3
   },
   "file_extension": ".py",
   "mimetype": "text/x-python",
   "name": "python",
   "nbconvert_exporter": "python",
   "pygments_lexer": "ipython3",
   "version": "3.10.11"
  },
  "orig_nbformat": 4
 },
 "nbformat": 4,
 "nbformat_minor": 2
}
