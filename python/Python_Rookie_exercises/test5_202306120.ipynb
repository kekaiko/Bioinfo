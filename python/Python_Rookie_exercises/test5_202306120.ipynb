{
 "cells": [
  {
   "attachments": {},
   "cell_type": "markdown",
   "metadata": {},
   "source": [
    "#Rabbits and Recurrence Relations"
   ]
  },
  {
   "attachments": {},
   "cell_type": "markdown",
   "metadata": {},
   "source": [
    "##Problem\n",
    "A sequence is an ordered collection of objects (usually numbers), which are allowed to repeat. Sequences can be finite or infinite. Two examples are the finite sequence (π,−2–√,0,π)\n",
    " and the infinite sequence of odd numbers (1,3,5,7,9,…)\n",
    ". We use the notation an\n",
    " to represent the n\n",
    "-th term of a sequence.\n",
    "\n",
    "A recurrence relation is a way of defining the terms of a sequence with respect to the values of previous terms. In the case of Fibonacci's rabbits from the introduction, any given month will contain the rabbits that were alive the previous month, plus any new offspring. A key observation is that the number of offspring in any month is equal to the number of rabbits that were alive two months prior. As a result, if Fn\n",
    " represents the number of rabbit pairs alive after the n\n",
    "-th month, then we obtain the Fibonacci sequence having terms Fn\n",
    " that are defined by the recurrence relation Fn=Fn−1+Fn−2\n",
    " (with F1=F2=1\n",
    " to initiate the sequence). Although the sequence bears Fibonacci's name, it was known to Indian mathematicians over two millennia ago.\n",
    "\n",
    "When finding the n\n",
    "-th term of a sequence defined by a recurrence relation, we can simply use the recurrence relation to generate terms for progressively larger values of n\n",
    ". This problem introduces us to the computational technique of dynamic programming, which successively builds up solutions by using the answers to smaller cases.\n",
    "\n",
    "Given: Positive integers n≤40\n",
    " and k≤5\n",
    ".\n",
    "\n",
    "Return: The total number of rabbit pairs that will be present after n\n",
    " months, if we begin with 1 pair and in each generation, every pair of reproduction-age rabbits produces a litter of k\n",
    " rabbit pairs (instead of only 1 pair)."
   ]
  },
  {
   "cell_type": "code",
   "execution_count": 3,
   "metadata": {},
   "outputs": [
    {
     "name": "stdout",
     "output_type": "stream",
     "text": [
      "29\n"
     ]
    }
   ],
   "source": [
    "def rabbit_pairs(n, k):\n",
    "    # 初始化月份1和月份2的兔子对数量\n",
    "    fib = [1, 1]\n",
    "\n",
    "    # 计算每个月份的兔子对数量\n",
    "    for i in range(2, n):\n",
    "        # 根据递推关系计算当前月份的兔子对数量\n",
    "        fib.append(fib[i - 1] + (fib[i - 2] * k))\n",
    "\n",
    "    # 返回第n个月份的兔子对数量\n",
    "    return fib[n - 1]\n",
    "\n",
    "\n",
    "# 读取输入数据\n",
    "#n, k = map(int, input().split())\n",
    "n, k = 5, 3\n",
    "n, k = 5, 4\n",
    "\n",
    "\n",
    "# 计算兔子对的数量\n",
    "total_pairs = rabbit_pairs(n, k)\n",
    "\n",
    "# 输出结果\n",
    "print(total_pairs)\n"
   ]
  },
  {
   "attachments": {},
   "cell_type": "markdown",
   "metadata": {},
   "source": [
    "这道题目考察的是使用动态规划来解决具有递推关系的问题。题目中描述了一个兔子繁殖的情况，每对繁殖年龄的兔子每个月可以产生k对兔子。我们需要计算在n个月后，兔子对的总数。\n",
    "\n",
    "首先，我们需要理解递推关系。题目中给出了一个递推关系：Fn = Fn-1 + Fn-2。这表示第n个月的兔子对数量等于前一个月和前两个月兔子对数量的总和。这种递推关系类似于著名的斐波那契数列。\n",
    "\n",
    "我们使用动态规划来计算每个月份的兔子对数量。我们从初始的1对兔子开始，根据递推关系依次计算后续月份的兔子对数量。通过迭代计算，我们可以得到第n个月的兔子对数量。\n",
    "\n",
    "动态规划的思想是利用已经计算过的子问题的结果来求解更大规模的问题。在这个问题中，我们利用之前计算的兔子对数量来求解下一个月份的兔子对数量。通过保存中间结果，我们避免了重复计算，提高了计算效率。\n",
    "\n",
    "总结起来，这道题目要求使用动态规划的思想，根据递推关系计算在n个月后的兔子对数量。它展示了动态规划在处理递归关系的问题中的应用。"
   ]
  },
  {
   "attachments": {},
   "cell_type": "markdown",
   "metadata": {},
   "source": [
    "\n",
    "在这道题目中，n和k分别代表以下内容：\n",
    "\n",
    "n：表示月份的数量。题目要求我们计算在n个月后的兔子对数量。\n",
    "k：表示每对繁殖年龄的兔子在一个月内可以产生的兔子对数量。换句话说，每个月的繁殖年龄兔子可以繁殖出k对新的兔子。\n",
    "通过给定的n和k值，我们可以使用动态规划来计算在n个月后兔子对的总数。"
   ]
  }
 ],
 "metadata": {
  "kernelspec": {
   "display_name": "Python_Rookie_exercise",
   "language": "python",
   "name": "python3"
  },
  "language_info": {
   "codemirror_mode": {
    "name": "ipython",
    "version": 3
   },
   "file_extension": ".py",
   "mimetype": "text/x-python",
   "name": "python",
   "nbconvert_exporter": "python",
   "pygments_lexer": "ipython3",
   "version": "3.10.11"
  },
  "orig_nbformat": 4
 },
 "nbformat": 4,
 "nbformat_minor": 2
}
