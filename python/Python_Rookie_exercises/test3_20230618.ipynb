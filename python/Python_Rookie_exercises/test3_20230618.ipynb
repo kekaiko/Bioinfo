{
 "cells": [
  {
   "attachments": {},
   "cell_type": "markdown",
   "metadata": {},
   "source": [
    "Problem\n",
    "In DNA strings, symbols 'A' and 'T' are complements of each other, as are 'C' and 'G'.\n",
    "\n",
    "The reverse complement of a DNA string s\n",
    " is the string sc\n",
    " formed by reversing the symbols of s\n",
    ", then taking the complement of each symbol (e.g., the reverse complement of \"GTCA\" is \"TGAC\").\n",
    "\n",
    "Given: A DNA string s\n",
    " of length at most 1000 bp.\n",
    "\n",
    "Return: The reverse complement sc\n",
    " of s\n",
    "."
   ]
  },
  {
   "attachments": {},
   "cell_type": "markdown",
   "metadata": {},
   "source": [
    "#简单 if  elif "
   ]
  },
  {
   "cell_type": "code",
   "execution_count": 2,
   "metadata": {},
   "outputs": [
    {
     "name": "stdout",
     "output_type": "stream",
     "text": [
      "ACCGGGTTTT\n"
     ]
    }
   ],
   "source": [
    "DNA=\"AAAACCCGGT\"\n",
    "def completely_reverse(DNA):\n",
    "    DNA1=DNA[::-1] #reverse\n",
    "    DNA2=\"\"\n",
    "    for i in DNA1:\n",
    "        if i==\"A\":\n",
    "            DNA2+=\"T\"\n",
    "        elif i==\"T\":\n",
    "            DNA2+=\"A\"\n",
    "        elif i==\"C\":\n",
    "            DNA2+=\"G\"\n",
    "        elif i==\"G\":\n",
    "            DNA2+=\"C\"\n",
    "    return DNA2\n",
    "DNA2=completely_reverse(DNA)\n",
    "print(DNA2)\n"
   ]
  },
  {
   "attachments": {},
   "cell_type": "markdown",
   "metadata": {},
   "source": [
    "#调用字典"
   ]
  },
  {
   "cell_type": "code",
   "execution_count": 3,
   "metadata": {},
   "outputs": [
    {
     "name": "stdout",
     "output_type": "stream",
     "text": [
      "ACCGGGTTTT\n"
     ]
    }
   ],
   "source": [
    "DNA=\"AAAACCCGGT\"\n",
    "def completely_reverse(DNA): \n",
    "    #用字典\n",
    "    DNA1=DNA[::-1] #reverse\n",
    "    DNA2=\"\"\n",
    "    dict1={\"A\":\"T\",\"T\":\"A\",\"C\":\"G\",\"G\":\"C\"}\n",
    "    for i in DNA1:\n",
    "        DNA2+=dict1[i]\n",
    "    return DNA2\n",
    "DNA2=completely_reverse(DNA)\n",
    "print(DNA2)"
   ]
  },
  {
   "cell_type": "code",
   "execution_count": 4,
   "metadata": {},
   "outputs": [
    {
     "name": "stdout",
     "output_type": "stream",
     "text": [
      "ACCGGGTTTT\n"
     ]
    }
   ],
   "source": [
    "# 互补序列方法2：python3 translate()方法\n",
    "DNA=\"AAAACCCGGT\"\n",
    "def completely_reverse(DNA):\n",
    "    DNA1=DNA[::-1] #reverse\n",
    "    DNA2=DNA1.translate(str.maketrans(\"ATCG\",\"TAGC\"))\n",
    "    return DNA2\n",
    "DNA2=completely_reverse(DNA)\n",
    "print(DNA2)"
   ]
  }
 ],
 "metadata": {
  "kernelspec": {
   "display_name": "Python_Rookie_exercise",
   "language": "python",
   "name": "python3"
  },
  "language_info": {
   "codemirror_mode": {
    "name": "ipython",
    "version": 3
   },
   "file_extension": ".py",
   "mimetype": "text/x-python",
   "name": "python",
   "nbconvert_exporter": "python",
   "pygments_lexer": "ipython3",
   "version": "3.10.11"
  },
  "orig_nbformat": 4
 },
 "nbformat": 4,
 "nbformat_minor": 2
}
